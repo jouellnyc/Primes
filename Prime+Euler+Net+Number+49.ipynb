{
 "cells": [
  {
   "cell_type": "markdown",
   "metadata": {},
   "source": [
    "This is a Solution for https://projecteuler.net/problem=49, which asks:\n",
    "\n",
    "\n",
    "\"The arithmetic sequence, 1487, 4817, 8147, in which each of the terms increases by 3330, is unusual in two ways: (i) each of the three terms are prime, and, (ii) each of the 4-digit numbers are permutations of one another.\n",
    "\n",
    "There are no arithmetic sequences made up of three 1-, 2-, or 3-digit primes, exhibiting this property, but there is one other 4-digit increasing sequence. What 12-digit number do you form by concatenating the three terms in this sequence?\"\n",
    "\n",
    "\n",
    "Why am I doing this?: I like numbers, primes are interesting, and the RSA problem is fascinating.\n",
    "\n",
    "Note that I took this from the perspective of the question is vague. That is to say  I don't know if they are looking for another series of 4-digit primes with a delta of 3330 or another delta entirely. \n",
    "\n",
    "So let's explore what the data and see what comes of it. \n"
   ]
  },
  {
   "cell_type": "code",
   "execution_count": null,
   "metadata": {
    "collapsed": true
   },
   "outputs": [],
   "source": [
    "# %load prime_euler_49.jnp.py\n",
    "#!/usr/bin/python3\n",
    "\n",
    "\"\"\" \t\t\t\t\t\t\t\t  \"\"\"\n",
    "\"\"\" Title: /prime_euler_49.py\t\t\t\t\t  \"\"\"\n",
    "\"\"\" Description: Solution for https://projecteuler.net/problem=49 \"\"\"\n",
    "\"\"\" \t\t\t\t\t\t\t\t  \"\"\"\n",
    "\n",
    "from collections import defaultdict\n",
    "from prime_func import is_prime\n",
    "\n",
    "\n",
    "\"\"\" Bounds of the problem is from 1000 to 1000 \"\"\"\n",
    "number=1000\n",
    "endnum=10000\n",
    "primes_list=[]\n",
    "\n",
    "\"\"\" Figure out if each number is prime                     \"\"\"\n",
    "\"\"\" Spoiler: Whittle count to 1061 from 9000 possibilities \"\"\"\n",
    "\n",
    "while number < endnum:\n",
    "\tisitprime=is_prime(number)\n",
    "\tif isitprime == 'prime':\n",
    "\t\tprimes_list.append(number)\n",
    "\tnumber+=1\n",
    "#Members are simply 4-digit primes : (4799)\n",
    "\n",
    "\"\"\" Create dict (prime_dict) with each prime being a member of a list of values  \"\"\"\n",
    "\"\"\" that is keyed by the numerically sorted numbers shared by the primes.\t \"\"\"\n",
    "\"\"\" NOTE: Convert each prime's string to digits, sort,concat back and join them  \"\"\"\n",
    "\"\"\" and store in dict again as we did primes_list above\t\t\t         \"\"\"\n",
    "\"\"\" Spoiler: We now have 336 unique sets\t\t\t\t    \t \"\"\"\n",
    "\n",
    "prime_dict = defaultdict(list)\n",
    "for each_prime in primes_list:\n",
    "\tdigits = [int(x) for x in str(each_prime)]\n",
    "\tdigits.sort()\n",
    "\tdigits = [str(x) for x in digits]\n",
    "\tdigits_sorted=str.join('',digits)\n",
    "\tprime_dict[digits_sorted].append(each_prime)\n",
    "#Members look like:\n",
    "#4799 : [9497, 9479])\n",
    "#0113 : [1013,1031,1103,1301]\n",
    "\n",
    "\"\"\" \n",
    "Get a visual to scroll through and then massage the data. Reading the problem it seems like \n",
    "the numbers should also share a delta of 3300 but it could be 'some common delta'. Here we \n",
    "get some candidates to focus on. You should see a pattern emerge like a sore thumb.\n",
    "Spoiler: Down to 174\n",
    "\"\"\"\n",
    "\n",
    "for digits,prime_combos in prime_dict.items():\n",
    "\tif len(prime_combos) > 2:\n",
    "\t\t#We need only look at sets with 3 values or more\n",
    "\t\t#Make a copy of the list to reduce visual confusion\n",
    "\t\tcp_prime_combos=prime_combos\n",
    "\n",
    "\t\tdelta_prime_pairs=[]\n",
    "\t\t#Push dict of the primes abs() delta value  mapped to tuple of primes compared \n",
    "\t\tfor prime in prime_combos:\n",
    "\t\t\tfor other_prime in cp_prime_combos:\n",
    "\t\t\t\tdelta_prime_pairs.append({ abs(other_prime-prime):(other_prime,prime)})\n",
    "\t\t#Members look like: 2700 [(6337, 3637)]\n",
    "\t\t#                 : 2700 [(6373, 3673)]\n",
    "\t\t#                 : 2700 [(3637, 6337)]\n",
    "\n",
    "\t\tdelta_dict = defaultdict(list)\n",
    "\t\tfor dicts in delta_prime_pairs:\t\n",
    "\t\t\tfor delta,prime_tuple in dicts.items():\n",
    "\t\t\t\tdelta_dict[delta].append(prime_tuple)\n",
    "\t\t#\n",
    "\t\t#Group the primes that have common deltas together\n",
    "\t\t#Members look like: \n",
    "\t\t#Delta [(prime1,prime2)....\n",
    "\t\t#2700 [(6337, 3637), (6373, 3673), (3637, 6337), (3673, 6373)]\n",
    "\t\t#270  [(5417, 5147), (5147, 5417), (5741, 5471), (5471, 5741)]\n",
    "\t\t#\n",
    "\n",
    "\t\t#At this point we can clearly see patterns based on the delta betwen primes \n",
    "\t\t#when printing the deltas and members.\n",
    "\t\t\n",
    "\t\t#Pull out the data and unpack. We are looking for 3 pairs of numbers, each of which\n",
    "        #share a common delta\n",
    "        #Candidates will look like this: [6389, 6389, 6983, 6983, 8369, 8369, 8963, 8963]\n",
    "        #Sort it and look for the 3 numbers that have the same delta. A winner will emerge\n",
    "        #Whittled will look like this: [6389, 6983, 8369, 8963]\n",
    "        #Look for the 3 numbers that have the same delta. A winner will emerge\n",
    "\n",
    "\t\tfor delta,num_pairs in delta_dict.items():\n",
    "\t\t\tif delta != 0:\n",
    "\t\t\t\tif len(num_pairs) >= 3: \n",
    "\t\t\t\t\tCandidates=[ x for t in num_pairs for x in t]\n",
    "\t\t\t\t\tCandidates=[ int(x) for x in Candidates ]\n",
    "\t\t\t\t\tCandidates=sorted(Candidates)\n",
    "\t\t\t\t\tWhittled=[]\n",
    "\t\t\t\t\tfor x in Candidates:\n",
    "\t\t\t\t\t\t if x not in Whittled:\n",
    "\t\t\t\t\t\t\t Whittled.append(x)\n",
    "\t\t\t\t\tif Whittled[0] + delta == Whittled[1] and Whittled[1] + delta == Whittled[2]:\n",
    "\t\t\t\t\t\tprint(\"Winner:\",Whittled[0],Whittled[1],Whittled[2])\n",
    "\n"
   ]
  },
  {
   "cell_type": "markdown",
   "metadata": {},
   "source": [
    "Basically I figured:\n",
    "<OL>\n",
    "<LI>List out all the primes up to 10,000\n",
    "<LI>Line them up in terms of the primes that are are permutations of each other\n",
    "<LI>Figure out the deltas between all of those primes\n",
    "<LI>Group pairs of primes with common deltas together\n",
    "<LI>Combine the pairs with common deltas and see if the increase by the same delta.\n",
    "<LI>Print the Winner\n",
    "</OL>"
   ]
  },
  {
   "cell_type": "markdown",
   "metadata": {},
   "source": [
    "Let's see what happens when we run it:"
   ]
  },
  {
   "cell_type": "code",
   "execution_count": 4,
   "metadata": {},
   "outputs": [
    {
     "name": "stdout",
     "output_type": "stream",
     "text": [
      "Winner: 1487 4817 8147\n",
      "Winner: 2969 6299 9629\n"
     ]
    }
   ],
   "source": [
    "%run prime_euler_49.jnp.py"
   ]
  },
  {
   "cell_type": "markdown",
   "metadata": {},
   "source": [
    "What I also found interesting: (1123,1321,2131) are three terms that are permutations of each other and if increased by an equal delta (990) reach  a prime that is a permutation of itself, but not one of the others in the set.\n",
    "    \n",
    "1123 -> 2113 || 1321 -> 2311 || 2131 -> 3121\n"
   ]
  },
  {
   "cell_type": "code",
   "execution_count": null,
   "metadata": {
    "collapsed": true
   },
   "outputs": [],
   "source": []
  }
 ],
 "metadata": {
  "kernelspec": {
   "display_name": "Python 3",
   "language": "python",
   "name": "python3"
  },
  "language_info": {
   "codemirror_mode": {
    "name": "ipython",
    "version": 3
   },
   "file_extension": ".py",
   "mimetype": "text/x-python",
   "name": "python",
   "nbconvert_exporter": "python",
   "pygments_lexer": "ipython3",
   "version": "3.6.2"
  }
 },
 "nbformat": 4,
 "nbformat_minor": 2
}
